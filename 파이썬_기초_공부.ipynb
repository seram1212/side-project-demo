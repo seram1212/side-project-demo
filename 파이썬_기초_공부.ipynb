{
  "nbformat": 4,
  "nbformat_minor": 0,
  "metadata": {
    "colab": {
      "provenance": [],
      "toc_visible": true,
      "authorship_tag": "ABX9TyNjZ9Hu1tM8QVFMKKBaBlT2",
      "include_colab_link": true
    },
    "kernelspec": {
      "name": "python3",
      "display_name": "Python 3"
    },
    "language_info": {
      "name": "python"
    }
  },
  "cells": [
    {
      "cell_type": "markdown",
      "metadata": {
        "id": "view-in-github",
        "colab_type": "text"
      },
      "source": [
        "<a href=\"https://colab.research.google.com/github/seram1212/side-project-demo/blob/main/%ED%8C%8C%EC%9D%B4%EC%8D%AC_%EA%B8%B0%EC%B4%88_%EA%B3%B5%EB%B6%80.ipynb\" target=\"_parent\"><img src=\"https://colab.research.google.com/assets/colab-badge.svg\" alt=\"Open In Colab\"/></a>"
      ]
    },
    {
      "cell_type": "code",
      "source": [
        "# 1. 나눔 폰트 설치\n",
        "!apt-get -qq install -y fonts-nanum\n",
        "\n",
        "# 2. 런타임에 폰트 캐시 다시 생성\n",
        "import matplotlib.font_manager as fm\n",
        "import matplotlib.pyplot as plt\n",
        "import seaborn as sns\n",
        "import pandas as pd\n",
        "import numpy as np\n",
        "import os\n",
        "\n",
        "# 3. 설치된 나눔글꼴 경로 확인\n",
        "font_path = \"/usr/share/fonts/truetype/nanum/NanumGothic.ttf\"\n",
        "\n",
        "# 4. matplotlib에 폰트 등록\n",
        "fm.fontManager.addfont(font_path)\n",
        "plt.rc('font', family='NanumGothic')\n",
        "plt.rcParams['axes.unicode_minus'] = False  # 마이너스 깨짐 방지\n"
      ],
      "metadata": {
        "id": "jAiEdJjh1KhE"
      },
      "execution_count": null,
      "outputs": []
    },
    {
      "cell_type": "markdown",
      "source": [
        "# Day1 | 파이썬 기본 문법 & 자료형 파이썬 기본 문법 & 자료형"
      ],
      "metadata": {
        "id": "YjZSqcwJUPqU"
      }
    },
    {
      "cell_type": "markdown",
      "source": [
        "*목표: 변수와 기본 자료형(숫자, 문자열, 리스트, 딕셔너리) 사용해보기"
      ],
      "metadata": {
        "id": "YHI4pXbaUfc8"
      }
    },
    {
      "cell_type": "code",
      "source": [
        "# 변수 만들기\n",
        "name = \"새람\"\n",
        "age = 25\n",
        "height = 179.5"
      ],
      "metadata": {
        "id": "pUSw80fXVWCM"
      },
      "execution_count": null,
      "outputs": []
    },
    {
      "cell_type": "code",
      "source": [
        "# 문자열\n",
        "greeting = \"hello!\"\n",
        "print(greeting.upper()) #대문자"
      ],
      "metadata": {
        "colab": {
          "base_uri": "https://localhost:8080/"
        },
        "id": "Jy9Cjc1eVo9j",
        "outputId": "b635b2d8-9da9-48cb-8a5c-ae1070bf5517"
      },
      "execution_count": null,
      "outputs": [
        {
          "output_type": "stream",
          "name": "stdout",
          "text": [
            "HELLO!\n"
          ]
        }
      ]
    },
    {
      "cell_type": "code",
      "source": [
        "# 리스트\n",
        "fruits = [\"사과\", \"포도\", \"바나나\"]\n",
        "print(fruits[0]) #[0]부터 시작, 마지막은 [-1]\n",
        "fruits.append(\"딸기\") #리스트 추가\n",
        "print(fruits[3])"
      ],
      "metadata": {
        "colab": {
          "base_uri": "https://localhost:8080/"
        },
        "id": "y-QP3XfAWJRN",
        "outputId": "b1859c6b-5c10-4a4c-81e0-48d538fe31f4"
      },
      "execution_count": null,
      "outputs": [
        {
          "output_type": "stream",
          "name": "stdout",
          "text": [
            "사과\n",
            "딸기\n"
          ]
        }
      ]
    },
    {
      "cell_type": "code",
      "source": [
        "# 딕셔너리\n",
        "person = {\"이름\":\"새람\", \"나이\": 25}\n",
        "print(person[\"나이\"])"
      ],
      "metadata": {
        "colab": {
          "base_uri": "https://localhost:8080/"
        },
        "id": "Plt06uMdWauP",
        "outputId": "17746a14-e07c-4ca3-9427-86282cb27a7f"
      },
      "execution_count": null,
      "outputs": [
        {
          "output_type": "stream",
          "name": "stdout",
          "text": [
            "25\n"
          ]
        }
      ]
    },
    {
      "cell_type": "markdown",
      "source": [
        "# Day2 | 조건문 (if, elif, else)"
      ],
      "metadata": {
        "id": "N1BiqqcjiOwT"
      }
    },
    {
      "cell_type": "markdown",
      "source": [
        "*목표:\n",
        "1. 조건문을 이용한 분기 처리\n",
        "2. 비교연산자, 논리연산자의 사용"
      ],
      "metadata": {
        "id": "BU7VHVnkiR2T"
      }
    },
    {
      "cell_type": "code",
      "source": [
        "# 조건문 기본구조\n",
        "score = 85\n",
        "\n",
        "if score >= 90:\n",
        "  print(\"A학점\")\n",
        "elif score >= 80:  #elif: 앞에 if문이 거짓이고 elif문이 참일 때 즉, else if#\n",
        "  print(\"B학점\")\n",
        "else:\n",
        "  print(\"C학점\")\n"
      ],
      "metadata": {
        "colab": {
          "base_uri": "https://localhost:8080/"
        },
        "id": "MPw3eUu3igLJ",
        "outputId": "c4435745-4a59-4c98-f390-8f0911b23d0c"
      },
      "execution_count": null,
      "outputs": [
        {
          "output_type": "stream",
          "name": "stdout",
          "text": [
            "B학점\n"
          ]
        }
      ]
    },
    {
      "cell_type": "code",
      "source": [
        "# 비교 연산자 예제\n",
        "num = 13\n",
        "\n",
        "if num % 2 == 0: # //는 나누고 몫 반환, %는 나누고 나머지 반환\n",
        "  print(\"짝수\")\n",
        "else:\n",
        "  print(\"홀수\")"
      ],
      "metadata": {
        "colab": {
          "base_uri": "https://localhost:8080/"
        },
        "id": "fIcAAG4oi80h",
        "outputId": "f24660da-b770-41cc-b5bb-cfbd210bc3ac"
      },
      "execution_count": null,
      "outputs": [
        {
          "output_type": "stream",
          "name": "stdout",
          "text": [
            "홀수\n"
          ]
        }
      ]
    },
    {
      "cell_type": "code",
      "source": [
        "# 논리 연산자 예제\n",
        "word = \"나쁜말\"\n",
        "\n",
        "if not (word == \"나쁜말\" or word ==\"욕\"):\n",
        "  print(\"입력한 단어:\", word)\n",
        "else:\n",
        "  print(\"금지된 단어입니다.\")\n"
      ],
      "metadata": {
        "colab": {
          "base_uri": "https://localhost:8080/"
        },
        "id": "HAKbLKE-j8RV",
        "outputId": "5deb6eef-4236-42f1-e491-8896d4cc741f"
      },
      "execution_count": null,
      "outputs": [
        {
          "output_type": "stream",
          "name": "stdout",
          "text": [
            "금지된 단어입니다.\n"
          ]
        }
      ]
    },
    {
      "cell_type": "code",
      "source": [
        "# a b c 중 가장 큰 수 찾기\n",
        "a = 3\n",
        "b = 9\n",
        "c = 7\n",
        "list = [a,b,c]\n",
        "if a == max(list):\n",
        "  print(a)\n",
        "elif b == max(list):\n",
        "  print(b)\n",
        "else:\n",
        "  print(c)\n",
        "\n",
        "  # 다른 풀이\n",
        "if a > b and a > c:\n",
        "  print(\"a가 가장 큽니다\", a)\n",
        "elif b > a and b > c:\n",
        "  print(\"b가 가장 큽니다\", b)\n",
        "else:\n",
        "  print(\"c가 가장 큽니다\", c)"
      ],
      "metadata": {
        "colab": {
          "base_uri": "https://localhost:8080/"
        },
        "id": "6yWU3PUzkzwB",
        "outputId": "c4fa1d43-4684-4301-a759-99b97c96c817"
      },
      "execution_count": null,
      "outputs": [
        {
          "output_type": "stream",
          "name": "stdout",
          "text": [
            "9\n",
            "b가 가장 큽니다 9\n"
          ]
        }
      ]
    },
    {
      "cell_type": "code",
      "source": [
        "# 추가 예제 문제\n",
        "password = input(\"암호를 입력하시오.\")\n",
        "\n",
        "if password == \"1234\":\n",
        "  print(\"입력 성공!\")\n",
        "else:\n",
        "  print(\"입력 실패!\")"
      ],
      "metadata": {
        "colab": {
          "base_uri": "https://localhost:8080/"
        },
        "id": "--MDzep6lbSo",
        "outputId": "8a82b54d-3888-4c2c-8d1e-038c6a386e67"
      },
      "execution_count": null,
      "outputs": [
        {
          "output_type": "stream",
          "name": "stdout",
          "text": [
            "암호를 입력하시오.1234\n",
            "입력 성공!\n"
          ]
        }
      ]
    },
    {
      "cell_type": "markdown",
      "source": [
        "# Day3 | 반복문 (for, while)"
      ],
      "metadata": {
        "id": "RPeVeRtnnMJB"
      }
    },
    {
      "cell_type": "markdown",
      "source": [
        "*목표:\n",
        "1. for, while 반복문 구조 익히기\n",
        "2. 리스트/문자열 등 여러 개의 데이터를 순회하는 방법 배우기\n",
        "3. break, continue로 흐름 제어하는 법 익히기"
      ],
      "metadata": {
        "id": "F3RdGDQbaeyd"
      }
    },
    {
      "cell_type": "code",
      "source": [
        "# 리스트 순회\n",
        "fruits = [\"사과\", \"바나나\", \"딸기\"]\n",
        "for fruit in fruits:\n",
        "  print(fruit)"
      ],
      "metadata": {
        "colab": {
          "base_uri": "https://localhost:8080/"
        },
        "id": "DLSopLxtawxj",
        "outputId": "a33ca155-64e0-4f73-9455-b03fec9e6baa"
      },
      "execution_count": null,
      "outputs": [
        {
          "output_type": "stream",
          "name": "stdout",
          "text": [
            "사과\n",
            "바나나\n",
            "딸기\n"
          ]
        }
      ]
    },
    {
      "cell_type": "code",
      "source": [
        "# range() 함수\n",
        "for i in range(5): #0부터 4까지\n",
        "  print(i)"
      ],
      "metadata": {
        "colab": {
          "base_uri": "https://localhost:8080/"
        },
        "id": "fuEIIHVzbFNK",
        "outputId": "733549fa-d81e-4366-bfdf-a63d79f0c748"
      },
      "execution_count": null,
      "outputs": [
        {
          "output_type": "stream",
          "name": "stdout",
          "text": [
            "0\n",
            "1\n",
            "2\n",
            "3\n",
            "4\n"
          ]
        }
      ]
    },
    {
      "cell_type": "code",
      "source": [
        "# while 반복문\n",
        "count =0\n",
        "while count < 3:\n",
        "  print(\"반복중\")\n",
        "  count += 1"
      ],
      "metadata": {
        "colab": {
          "base_uri": "https://localhost:8080/"
        },
        "id": "QSdIMQhmbSSw",
        "outputId": "6ed8ae34-4a45-468b-882b-a97c121761ef"
      },
      "execution_count": null,
      "outputs": [
        {
          "output_type": "stream",
          "name": "stdout",
          "text": [
            "반복중\n",
            "반복중\n",
            "반복중\n"
          ]
        }
      ]
    },
    {
      "cell_type": "code",
      "source": [
        "# break 멈추기\n",
        "for i in range(10):\n",
        "  if i == 5:\n",
        "    break\n",
        "  print(i)"
      ],
      "metadata": {
        "colab": {
          "base_uri": "https://localhost:8080/"
        },
        "id": "nEblExc4bmJg",
        "outputId": "0641cd86-1e93-44dc-fc22-c826483f4725"
      },
      "execution_count": null,
      "outputs": [
        {
          "output_type": "stream",
          "name": "stdout",
          "text": [
            "0\n",
            "1\n",
            "2\n",
            "3\n",
            "4\n"
          ]
        }
      ]
    },
    {
      "cell_type": "code",
      "source": [
        "# continue 건너뛰기\n",
        "for i in range(5):\n",
        "  if i == 2:\n",
        "    continue\n",
        "  print(i)"
      ],
      "metadata": {
        "colab": {
          "base_uri": "https://localhost:8080/"
        },
        "id": "rxuAEbA9bzEx",
        "outputId": "5c5cda51-a17d-482d-adeb-7bb17e0c3bca"
      },
      "execution_count": null,
      "outputs": [
        {
          "output_type": "stream",
          "name": "stdout",
          "text": [
            "0\n",
            "1\n",
            "3\n",
            "4\n"
          ]
        }
      ]
    },
    {
      "cell_type": "code",
      "source": [
        "# 예제문제\n",
        "# 1. 1부터 10까지 더하기\n",
        "sum = 0\n",
        "for i in range(1,11):\n",
        "  sum += i\n",
        "print(sum)"
      ],
      "metadata": {
        "colab": {
          "base_uri": "https://localhost:8080/"
        },
        "id": "esBMoF43b-8Y",
        "outputId": "9c08fc9e-3072-415b-8d73-2b27d9a046b3"
      },
      "execution_count": null,
      "outputs": [
        {
          "output_type": "stream",
          "name": "stdout",
          "text": [
            "55\n"
          ]
        }
      ]
    },
    {
      "cell_type": "code",
      "source": [
        "# 2. 숫자 5개 입력받아 리스트에 저장하고 출력하기\n",
        "numbers = []\n",
        "\n",
        "for i in range(5):\n",
        "  num = int(input(f\"{i+1}번째숫자를 입력하세요: \"))\n",
        "  numbers.append(num)\n",
        "print(\"입력한 숫자들: \", numbers)"
      ],
      "metadata": {
        "colab": {
          "base_uri": "https://localhost:8080/"
        },
        "id": "RFx_Xbaic4lZ",
        "outputId": "aceb7809-416c-4ce5-a23b-225d82fb37a6"
      },
      "execution_count": null,
      "outputs": [
        {
          "output_type": "stream",
          "name": "stdout",
          "text": [
            "1번째숫자를 입력하세요: 1\n",
            "2번째숫자를 입력하세요: 3\n",
            "3번째숫자를 입력하세요: 5\n",
            "4번째숫자를 입력하세요: 7\n",
            "5번째숫자를 입력하세요: 9\n",
            "입력한 숫자들:  [1, 3, 5, 7, 9]\n"
          ]
        }
      ]
    },
    {
      "cell_type": "code",
      "source": [
        "# 3. 1~100중 짝수만 출력\n",
        "\n",
        "for i in range(1,101):\n",
        "  if i % 2 == 0:\n",
        "    print(i)\n"
      ],
      "metadata": {
        "colab": {
          "base_uri": "https://localhost:8080/"
        },
        "collapsed": true,
        "id": "l7NyvafDfAiV",
        "outputId": "e3ce1c17-1f8d-493b-d103-a1fc234b1e8b"
      },
      "execution_count": null,
      "outputs": [
        {
          "output_type": "stream",
          "name": "stdout",
          "text": [
            "2\n",
            "4\n",
            "6\n",
            "8\n",
            "10\n",
            "12\n",
            "14\n",
            "16\n",
            "18\n",
            "20\n",
            "22\n",
            "24\n",
            "26\n",
            "28\n",
            "30\n",
            "32\n",
            "34\n",
            "36\n",
            "38\n",
            "40\n",
            "42\n",
            "44\n",
            "46\n",
            "48\n",
            "50\n",
            "52\n",
            "54\n",
            "56\n",
            "58\n",
            "60\n",
            "62\n",
            "64\n",
            "66\n",
            "68\n",
            "70\n",
            "72\n",
            "74\n",
            "76\n",
            "78\n",
            "80\n",
            "82\n",
            "84\n",
            "86\n",
            "88\n",
            "90\n",
            "92\n",
            "94\n",
            "96\n",
            "98\n",
            "100\n"
          ]
        }
      ]
    },
    {
      "cell_type": "code",
      "source": [
        "# 4. 무한 반복으로 비밀번호 맞출 때까지 입력받기\n",
        "new_pw = input(\"새 비밀번호를 입력하시오: \")\n",
        "\n",
        "while True:\n",
        "  password  = input(\"비밀번호를 입력하시오: \")\n",
        "  if new_pw == password:\n",
        "    print(\"비밀번호 일치\")\n",
        "    break\n",
        "  else:\n",
        "    print(\"비밀번호 불일치\")\n",
        "    break"
      ],
      "metadata": {
        "colab": {
          "base_uri": "https://localhost:8080/"
        },
        "id": "WQx07tFBgmu6",
        "outputId": "7c62a058-1452-45dd-e5e0-2f5cefe458b4"
      },
      "execution_count": null,
      "outputs": [
        {
          "output_type": "stream",
          "name": "stdout",
          "text": [
            "새 비밀번호를 입력하시오: 123\n",
            "비밀번호를 입력하시오: 12\n",
            "비밀번호 불일치\n"
          ]
        }
      ]
    },
    {
      "cell_type": "markdown",
      "source": [
        "# Day4 | 함수 (def) 만들기"
      ],
      "metadata": {
        "id": "WLMxudynI8eG"
      }
    },
    {
      "cell_type": "markdown",
      "source": [
        "*목표:\n",
        "1. def로 함수 만들고 사용하는 법 익히기\n",
        "2. 매개변수, 리턴값 이해하기\n",
        "3. 함수로 코드 재사용하는 습관 익히기"
      ],
      "metadata": {
        "id": "9CuCxJCMJDb3"
      }
    },
    {
      "cell_type": "code",
      "source": [
        "# 함수 기본 구조\n",
        "def say_hello():\n",
        "  print(\"안녕!\")\n",
        "\n",
        "say_hello()"
      ],
      "metadata": {
        "colab": {
          "base_uri": "https://localhost:8080/"
        },
        "id": "FselAqlaJQvW",
        "outputId": "bd65eb6c-0a04-4859-91e5-ffba740f0ddc"
      },
      "execution_count": null,
      "outputs": [
        {
          "output_type": "stream",
          "name": "stdout",
          "text": [
            "안녕!\n"
          ]
        }
      ]
    },
    {
      "cell_type": "code",
      "source": [
        "# 매개변수 있는 함수\n",
        "def greet(name):\n",
        "  print(f\"{name}님 안녕하세요!\")\n",
        "\n",
        "greet(\"새람\")"
      ],
      "metadata": {
        "colab": {
          "base_uri": "https://localhost:8080/"
        },
        "id": "yyuC_tO4JYgA",
        "outputId": "4817bf33-a740-45a3-c2a2-2fd2cc044334"
      },
      "execution_count": null,
      "outputs": [
        {
          "output_type": "stream",
          "name": "stdout",
          "text": [
            "새람님 안녕하세요!\n"
          ]
        }
      ]
    },
    {
      "cell_type": "code",
      "source": [
        "# 리턴값 있는 함수\n",
        "def square(x):\n",
        "  return x * x # print()는 단순 출력, return는 result에 저장해서 다음 작업도 가능\n",
        "\n",
        "result = square(4)\n",
        "print(result)"
      ],
      "metadata": {
        "colab": {
          "base_uri": "https://localhost:8080/"
        },
        "id": "m59D9JU3Jn1A",
        "outputId": "f37bd92c-9f0b-4807-eb0b-8f5745d6ed45"
      },
      "execution_count": null,
      "outputs": [
        {
          "output_type": "stream",
          "name": "stdout",
          "text": [
            "16\n"
          ]
        }
      ]
    },
    {
      "cell_type": "code",
      "source": [
        "# 기본값이 있는 함수\n",
        "def greet(name=\"친구\"):\n",
        "  print(f\"{name}님 반가워요!\")\n",
        "\n",
        "greet()\n",
        "greet(\"나상현\") # 기본값 \"친구\" 무시함"
      ],
      "metadata": {
        "colab": {
          "base_uri": "https://localhost:8080/"
        },
        "id": "H7xfGAe5KxXz",
        "outputId": "8bf5b6b0-32d9-46a7-eb3b-bf0f19b7dd25"
      },
      "execution_count": null,
      "outputs": [
        {
          "output_type": "stream",
          "name": "stdout",
          "text": [
            "친구님 반가워요!\n",
            "나상현님 반가워요!\n"
          ]
        }
      ]
    },
    {
      "cell_type": "code",
      "source": [
        "# 예제문제\n",
        "# 1. 두 수 더하기\n",
        "def add(a, b):\n",
        "  return a + b\n",
        "result = add(3, 5)\n",
        "print(result)"
      ],
      "metadata": {
        "colab": {
          "base_uri": "https://localhost:8080/"
        },
        "id": "znfHrarALVf7",
        "outputId": "cf5f7b2c-7ad5-4dd7-8fc0-d83fd695c480"
      },
      "execution_count": null,
      "outputs": [
        {
          "output_type": "stream",
          "name": "stdout",
          "text": [
            "8\n"
          ]
        }
      ]
    },
    {
      "cell_type": "code",
      "source": [
        "# 2. 짝수/홀수 판별 함수\n",
        "def is_even(n):\n",
        "  if n % 2 == 0:\n",
        "    print(f\"{n}는 짝수입니다.\")\n",
        "  else:\n",
        "    print(f\"{n}는 홀수입니다.\")\n",
        "is_even(2)\n",
        "\n",
        "# 리턴 쓰는 버전\n",
        "def is_even(n):\n",
        "  if n % 2 == 0:\n",
        "    return True\n",
        "  else:\n",
        "    return False\n",
        "num = 7\n",
        "if is_even(num):\n",
        "  print(f\"{num}는 짝수입니다.\")\n",
        "else:\n",
        "  print(f\"{num}는 홀수입니다.\")"
      ],
      "metadata": {
        "colab": {
          "base_uri": "https://localhost:8080/"
        },
        "id": "vjRQP_KUL7T5",
        "outputId": "c527f773-14a6-4e60-98b8-51a3cb3feced"
      },
      "execution_count": null,
      "outputs": [
        {
          "output_type": "stream",
          "name": "stdout",
          "text": [
            "2는 짝수입니다.\n",
            "7는 홀수입니다.\n"
          ]
        }
      ]
    },
    {
      "cell_type": "code",
      "source": [
        "# 3. 리스트 평균 구하는 함수\n",
        "def get_avg(numbers):\n",
        "  return sum(numbers)/len(numbers)\n",
        "\n",
        "result=get_avg([10, 20, 30])\n",
        "print(result)\n",
        "\n",
        "# 리스트 숫자 직접 추가\n",
        "numbers = []\n",
        "for i in range(5):\n",
        "    numbers = int(input(f\"{i+1}번째 숫자 입력: \"))\n",
        "    nums.append(numbers)"
      ],
      "metadata": {
        "colab": {
          "base_uri": "https://localhost:8080/"
        },
        "id": "5TZmepWBMwVh",
        "outputId": "79f8dfc2-3771-4a3d-f1fe-b8ba44df2251"
      },
      "execution_count": null,
      "outputs": [
        {
          "output_type": "stream",
          "name": "stdout",
          "text": [
            "20.0\n"
          ]
        }
      ]
    },
    {
      "cell_type": "code",
      "source": [
        "# 4. 로그인 함수 만들기\n",
        "def check_Login(id, pw):\n",
        "  if id == \"seram\" and pw == \"1212\":\n",
        "    print(\"입력 성공!\")\n",
        "  else:\n",
        "    print(\"입력 실패!\")\n",
        "check_Login(\"seram\", \"1212\")"
      ],
      "metadata": {
        "colab": {
          "base_uri": "https://localhost:8080/"
        },
        "id": "kR5tOmRKNP8t",
        "outputId": "e3b2b1b6-b433-46a0-edbc-fb3d40aac7bb"
      },
      "execution_count": null,
      "outputs": [
        {
          "output_type": "stream",
          "name": "stdout",
          "text": [
            "입력 성공!\n"
          ]
        }
      ]
    },
    {
      "cell_type": "markdown",
      "source": [
        "# Day5 | Pandas 기초 입문"
      ],
      "metadata": {
        "id": "v9qToBgSPaCW"
      }
    },
    {
      "cell_type": "markdown",
      "source": [
        "*목표:\n",
        "1. Pandas 설치 & 불러오기\n",
        "2. DataFrame 구조 이해하기\n",
        "3. CSV 파일 불러와서 보는 법 배우기\n",
        "4. 열(col), 행(row) 선택하기"
      ],
      "metadata": {
        "id": "6RaIKTzVmai4"
      }
    },
    {
      "cell_type": "code",
      "source": [
        "# Pandas 설치 & 불러오기\n",
        "import pandas as pd"
      ],
      "metadata": {
        "id": "dvUN2ynEmtXk"
      },
      "execution_count": null,
      "outputs": []
    },
    {
      "cell_type": "code",
      "source": [
        "# Pandas로 샘플 데이터 불러오기, DataFrame 만들기\n",
        "df = pd.read_csv(\"https://raw.githubusercontent.com/mwaskom/seaborn-data/master/titanic.csv\")\n",
        "print(df.head()) # 앞에 5행 부분 불러오기"
      ],
      "metadata": {
        "colab": {
          "base_uri": "https://localhost:8080/"
        },
        "id": "P3fIKZ-Ym7EH",
        "outputId": "e0d4da10-867b-4dbe-e762-264ed46e40d9"
      },
      "execution_count": null,
      "outputs": [
        {
          "output_type": "stream",
          "name": "stdout",
          "text": [
            "   survived  pclass     sex   age  sibsp  parch     fare embarked  class  \\\n",
            "0         0       3    male  22.0      1      0   7.2500        S  Third   \n",
            "1         1       1  female  38.0      1      0  71.2833        C  First   \n",
            "2         1       3  female  26.0      0      0   7.9250        S  Third   \n",
            "3         1       1  female  35.0      1      0  53.1000        S  First   \n",
            "4         0       3    male  35.0      0      0   8.0500        S  Third   \n",
            "\n",
            "     who  adult_male deck  embark_town alive  alone  \n",
            "0    man        True  NaN  Southampton    no  False  \n",
            "1  woman       False    C    Cherbourg   yes  False  \n",
            "2  woman       False  NaN  Southampton   yes   True  \n",
            "3  woman       False    C  Southampton   yes  False  \n",
            "4    man        True  NaN  Southampton    no   True  \n"
          ]
        }
      ]
    },
    {
      "cell_type": "code",
      "source": [
        "# 열 선택\n",
        "print(df[\"sex\"].head()) # 성별 열 5행만\n",
        "print(df[\"age\"].mean()) # 나이 열 5행평균"
      ],
      "metadata": {
        "colab": {
          "base_uri": "https://localhost:8080/"
        },
        "id": "NiQTLYdgnSp-",
        "outputId": "d0628907-a2bd-4cf7-b099-4860dc3eb0ee"
      },
      "execution_count": null,
      "outputs": [
        {
          "output_type": "stream",
          "name": "stdout",
          "text": [
            "0      male\n",
            "1    female\n",
            "2    female\n",
            "3    female\n",
            "4      male\n",
            "Name: sex, dtype: object\n",
            "29.69911764705882\n"
          ]
        }
      ]
    },
    {
      "cell_type": "code",
      "source": [
        "# 행 선택\n",
        "print(df.iloc[0]) # 첫 번째 행 인덱스로: 인덱스는 0 1 2 ... 기본 값 순서대로\n",
        "print(df.loc[1]) # 인덱스 1번 행 라벨로: 라벨은 인덱스가 특정한 이름으로 되어있을 때"
      ],
      "metadata": {
        "colab": {
          "base_uri": "https://localhost:8080/"
        },
        "id": "vUrpEvluoITj",
        "outputId": "da98d640-a1b8-4fd2-f75a-df9045fdc315"
      },
      "execution_count": null,
      "outputs": [
        {
          "output_type": "stream",
          "name": "stdout",
          "text": [
            "survived                 0\n",
            "pclass                   3\n",
            "sex                   male\n",
            "age                   22.0\n",
            "sibsp                    1\n",
            "parch                    0\n",
            "fare                  7.25\n",
            "embarked                 S\n",
            "class                Third\n",
            "who                    man\n",
            "adult_male            True\n",
            "deck                   NaN\n",
            "embark_town    Southampton\n",
            "alive                   no\n",
            "alone                False\n",
            "Name: 0, dtype: object\n",
            "survived               1\n",
            "pclass                 1\n",
            "sex               female\n",
            "age                 38.0\n",
            "sibsp                  1\n",
            "parch                  0\n",
            "fare             71.2833\n",
            "embarked               C\n",
            "class              First\n",
            "who                woman\n",
            "adult_male         False\n",
            "deck                   C\n",
            "embark_town    Cherbourg\n",
            "alive                yes\n",
            "alone              False\n",
            "Name: 1, dtype: object\n"
          ]
        }
      ]
    },
    {
      "cell_type": "code",
      "source": [
        "# 예제문제\n",
        "# 1. df 행, 열 개수 출력\n",
        "print(df.shape)"
      ],
      "metadata": {
        "colab": {
          "base_uri": "https://localhost:8080/"
        },
        "id": "PAaVVRjQow8Q",
        "outputId": "e6dc327f-664d-4f52-b585-aef4ba76237d"
      },
      "execution_count": null,
      "outputs": [
        {
          "output_type": "stream",
          "name": "stdout",
          "text": [
            "(891, 15)\n"
          ]
        }
      ]
    },
    {
      "cell_type": "code",
      "source": [
        "# 2. age, sex 열만 따로 보기\n",
        "print(df[[\"age\", \"sex\"]].head())"
      ],
      "metadata": {
        "colab": {
          "base_uri": "https://localhost:8080/"
        },
        "id": "2APvTm5wp95C",
        "outputId": "bd2936d5-62b8-435a-a3b3-a25b336906c2"
      },
      "execution_count": null,
      "outputs": [
        {
          "output_type": "stream",
          "name": "stdout",
          "text": [
            "    age     sex\n",
            "0  22.0    male\n",
            "1  38.0  female\n",
            "2  26.0  female\n",
            "3  35.0  female\n",
            "4  35.0    male\n"
          ]
        }
      ]
    },
    {
      "cell_type": "code",
      "source": [
        "# 3. 성별이 female인 사람 처음 5행 출력\n",
        "print(df[df[\"sex\"] == \"female\"].head())"
      ],
      "metadata": {
        "colab": {
          "base_uri": "https://localhost:8080/"
        },
        "id": "5F_48ls3qrAX",
        "outputId": "cd268b48-545b-4266-8cb3-14d2a12070ff"
      },
      "execution_count": null,
      "outputs": [
        {
          "output_type": "stream",
          "name": "stdout",
          "text": [
            "   survived  pclass     sex   age  sibsp  parch     fare embarked   class  \\\n",
            "1         1       1  female  38.0      1      0  71.2833        C   First   \n",
            "2         1       3  female  26.0      0      0   7.9250        S   Third   \n",
            "3         1       1  female  35.0      1      0  53.1000        S   First   \n",
            "8         1       3  female  27.0      0      2  11.1333        S   Third   \n",
            "9         1       2  female  14.0      1      0  30.0708        C  Second   \n",
            "\n",
            "     who  adult_male deck  embark_town alive  alone  \n",
            "1  woman       False    C    Cherbourg   yes  False  \n",
            "2  woman       False  NaN  Southampton   yes   True  \n",
            "3  woman       False    C  Southampton   yes  False  \n",
            "8  woman       False  NaN  Southampton   yes  False  \n",
            "9  child       False  NaN    Cherbourg   yes  False  \n"
          ]
        }
      ]
    },
    {
      "cell_type": "markdown",
      "source": [
        "# Day6 | 데이터 정제 & 결측치 처리"
      ],
      "metadata": {
        "id": "vl6Hn9errov4"
      }
    },
    {
      "cell_type": "markdown",
      "source": [
        "*목표:\n",
        "1. 결측값(NaN) 찾기 & 처리하기\n",
        "2. 데이터 정렬하기\n",
        "3. 조건에 따라 행 필터링하기\n",
        "4. 새로운 열 추가하기"
      ],
      "metadata": {
        "id": "2lY0U0K55Jhk"
      }
    },
    {
      "cell_type": "code",
      "source": [
        "# 결측치 찾기\n",
        "df = pd.read_csv(\"/content/sample_data/titanic.csv\")\n",
        "print(df.isnull().sum()) # 각 열마다 결측치 몇 개인지"
      ],
      "metadata": {
        "colab": {
          "base_uri": "https://localhost:8080/"
        },
        "id": "faWuFQZL5YPP",
        "outputId": "2ba4f2e0-93de-480b-aff4-2362c31f71fd"
      },
      "execution_count": null,
      "outputs": [
        {
          "output_type": "stream",
          "name": "stdout",
          "text": [
            "PassengerId      0\n",
            "Survived         0\n",
            "Pclass           0\n",
            "Name             0\n",
            "Sex              0\n",
            "Age            177\n",
            "SibSp            0\n",
            "Parch            0\n",
            "Ticket           0\n",
            "Fare             0\n",
            "Cabin          687\n",
            "Embarked         2\n",
            "dtype: int64\n"
          ]
        }
      ]
    },
    {
      "cell_type": "code",
      "source": [
        "# 결측치 제거 & 채우기\n",
        "df_clean = df.dropna() # 결측치 있는 행 제거\n",
        "df[\"Age\"] = df[\"Age\"].fillna(df[\"Age\"].mean()) # 결측치 평균 나이로 채우기"
      ],
      "metadata": {
        "id": "V_E78qSo5gdf"
      },
      "execution_count": null,
      "outputs": []
    },
    {
      "cell_type": "code",
      "source": [
        "# 정렬하기\n",
        "df_sorted = df.sort_values(by=\"Age\") # 나이 오름차순 정렬\n",
        "df_sorted = df.sort_values(by=\"Fare\", ascending=False) # 운임 내림차순 정렬"
      ],
      "metadata": {
        "id": "t5wBFRsU6NV5"
      },
      "execution_count": null,
      "outputs": []
    },
    {
      "cell_type": "code",
      "source": [
        "# 조건으로 필터링\n",
        "seniors = df[df[\"Age\"]>=60]\n",
        "female_first = df[(df[\"Sex\"] == \"female\") & (df[\"Pclass\"] == 1)] # 여성 중 1등석"
      ],
      "metadata": {
        "id": "7Daui2LN8hsc"
      },
      "execution_count": null,
      "outputs": []
    },
    {
      "cell_type": "code",
      "source": [
        "# 새로운 열 추가\n",
        "df[\"is_adult\"] = df[\"Age\"] >= 18 # 나이 기준 성인 열 추가"
      ],
      "metadata": {
        "id": "cOt-zaCT89sr"
      },
      "execution_count": null,
      "outputs": []
    },
    {
      "cell_type": "code",
      "source": [
        "# 예제문제\n",
        "# 1. 결측치가 가장 많은 열 출력\n",
        "null_counts = df.isnull().sum()\n",
        "print(null_counts.idxmax())"
      ],
      "metadata": {
        "colab": {
          "base_uri": "https://localhost:8080/"
        },
        "id": "m5wVRvVV9wOL",
        "outputId": "2859045c-e593-43b2-b2a0-cb2139f34683"
      },
      "execution_count": null,
      "outputs": [
        {
          "output_type": "stream",
          "name": "stdout",
          "text": [
            "Cabin\n"
          ]
        }
      ]
    },
    {
      "cell_type": "code",
      "source": [
        "# 2. 운임(Fare)이 비싼 순서로 상위 10명 출력하기\n",
        "df_sorted = df.sort_values(by=\"Fare\", ascending=False)\n",
        "print(df_sorted[[\"Fare\", \"Name\"]].head(10))"
      ],
      "metadata": {
        "colab": {
          "base_uri": "https://localhost:8080/"
        },
        "id": "9T1TX8dU99Kz",
        "outputId": "3d091c52-01cf-4e60-cb07-aeec27dfde57"
      },
      "execution_count": null,
      "outputs": [
        {
          "output_type": "stream",
          "name": "stdout",
          "text": [
            "         Fare                                             Name\n",
            "679  512.3292               Cardeza, Mr. Thomas Drake Martinez\n",
            "258  512.3292                                 Ward, Miss. Anna\n",
            "737  512.3292                           Lesurer, Mr. Gustave J\n",
            "88   263.0000                       Fortune, Miss. Mabel Helen\n",
            "438  263.0000                                Fortune, Mr. Mark\n",
            "341  263.0000                   Fortune, Miss. Alice Elizabeth\n",
            "27   263.0000                   Fortune, Mr. Charles Alexander\n",
            "742  262.3750            Ryerson, Miss. Susan Parker \"Suzette\"\n",
            "311  262.3750                       Ryerson, Miss. Emily Borie\n",
            "299  247.5208  Baxter, Mrs. James (Helene DeLaudeniere Chaput)\n"
          ]
        }
      ]
    },
    {
      "cell_type": "code",
      "source": [
        "# 3. 새로운 열 is_child 만들기 (나이가 18미만 이면 True 아니면 False)\n",
        "df[\"is_child\"] = df[\"Age\"] < 18 # 자동으로 True, False\n",
        "print(df[[\"Age\", \"is_child\"]].head(10))\n",
        "\n",
        "# 특정 열만 바꾸기 (결측치는 NaN로)\n",
        "import numpy as np\n",
        "\n",
        "df.loc[df[\"Age\"].isnull(), \"is_child\"] = np.nan\n",
        "print(df[[\"Age\", \"is_child\"]])"
      ],
      "metadata": {
        "colab": {
          "base_uri": "https://localhost:8080/"
        },
        "id": "D8fo2kQ7AAG5",
        "outputId": "4aac1af1-31ff-4322-f6c4-884ca688fe3c"
      },
      "execution_count": null,
      "outputs": [
        {
          "output_type": "stream",
          "name": "stdout",
          "text": [
            "    Age  is_child\n",
            "0  22.0     False\n",
            "1  38.0     False\n",
            "2  26.0     False\n",
            "3  35.0     False\n",
            "4  35.0     False\n",
            "5   NaN     False\n",
            "6  54.0     False\n",
            "7   2.0      True\n",
            "8  27.0     False\n",
            "9  14.0      True\n",
            "      Age is_child\n",
            "0    22.0    False\n",
            "1    38.0    False\n",
            "2    26.0    False\n",
            "3    35.0    False\n",
            "4    35.0    False\n",
            "..    ...      ...\n",
            "886  27.0    False\n",
            "887  19.0    False\n",
            "888   NaN      NaN\n",
            "889  26.0    False\n",
            "890  32.0    False\n",
            "\n",
            "[891 rows x 2 columns]\n"
          ]
        },
        {
          "output_type": "stream",
          "name": "stderr",
          "text": [
            "/tmp/ipython-input-60-338053885.py:8: FutureWarning: Setting an item of incompatible dtype is deprecated and will raise an error in a future version of pandas. Value 'nan' has dtype incompatible with bool, please explicitly cast to a compatible dtype first.\n",
            "  df.loc[df[\"Age\"].isnull(), \"is_child\"] = np.nan\n"
          ]
        }
      ]
    },
    {
      "cell_type": "markdown",
      "source": [
        "# Day7 | Matplotlib & Seaborn 기초"
      ],
      "metadata": {
        "id": "vn6cQWUXDlRp"
      }
    },
    {
      "cell_type": "markdown",
      "source": [
        "*목표:\n",
        "1. matplotlib & seaborn 불러오기\n",
        "2. 다양한 그래프 그려보기\n",
        "3. titanic 데이터 시각화 실습"
      ],
      "metadata": {
        "id": "JlkYJs-hzO8U"
      }
    },
    {
      "cell_type": "code",
      "source": [
        "# 시각화 도구, 타이타닉 데이터 불러오기\n",
        "import matplotlib.pyplot as plt\n",
        "import seaborn as sns\n",
        "%matplotlib inline\n",
        "df = sns.load_dataset(\"titanic\")"
      ],
      "metadata": {
        "id": "B-j2ySpszZ30"
      },
      "execution_count": null,
      "outputs": []
    },
    {
      "cell_type": "code",
      "source": [
        "# 꺾은선 그래프\n",
        "plt.plot([1,2,3,4], [10,20,15,25])\n",
        "plt.title(\"Line Plot\")\n",
        "plt.xlabel(\"X 값\")\n",
        "plt.ylabel(\"Y 값\")\n",
        "plt.show()"
      ],
      "metadata": {
        "colab": {
          "base_uri": "https://localhost:8080/",
          "height": 528
        },
        "id": "42hGV4Pv0Ehm",
        "outputId": "f226ff6a-59ff-4fb9-9933-e0cc8c87e91d"
      },
      "execution_count": null,
      "outputs": [
        {
          "output_type": "stream",
          "name": "stderr",
          "text": [
            "/usr/local/lib/python3.11/dist-packages/IPython/core/pylabtools.py:151: UserWarning: Glyph 44050 (\\N{HANGUL SYLLABLE GABS}) missing from font(s) DejaVu Sans.\n",
            "  fig.canvas.print_figure(bytes_io, **kw)\n"
          ]
        },
        {
          "output_type": "display_data",
          "data": {
            "text/plain": [
              "<Figure size 640x480 with 1 Axes>"
            ],
            "image/png": "[encoded data removed]"
          },
          "metadata": {}
        }
      ]
    },
    {
      "cell_type": "code",
      "source": [
        "# 막대그래프 (승객 등급별 인원수)\n",
        "sns.countplot(x=\"pclass\", data=df)\n",
        "plt.title(\"승객 등급별 인원수\")\n",
        "plt.show()"
      ],
      "metadata": {
        "colab": {
          "base_uri": "https://localhost:8080/",
          "height": 469
        },
        "id": "rmYbRhoV0j61",
        "outputId": "2060ac4d-7f8e-492e-d07b-6ececd16c745"
      },
      "execution_count": null,
      "outputs": [
        {
          "output_type": "display_data",
          "data": {
            "text/plain": [
              "<Figure size 640x480 with 1 Axes>"
            ],
            "image/png": "[encoded data removed]"
          },
          "metadata": {}
        }
      ]
    },
    {
      "cell_type": "code",
      "source": [
        "# 히스토그램 (나이 분포)\n",
        "sns.histplot(df[\"age\"], kde=True) # kde는 커널밀도함수 즉, 히스토그램 위 곡선형 확률밀도함수를 그려줌\n",
        "plt.title(\"나이 분포\")\n",
        "plt.show()"
      ],
      "metadata": {
        "colab": {
          "base_uri": "https://localhost:8080/",
          "height": 469
        },
        "id": "L_9lElbr1srR",
        "outputId": "08b69ac5-2614-461e-da4d-2b1631bf6b89"
      },
      "execution_count": null,
      "outputs": [
        {
          "output_type": "display_data",
          "data": {
            "text/plain": [
              "<Figure size 640x480 with 1 Axes>"
            ],
            "image/png": "[encoded data removed]"
          },
          "metadata": {}
        }
      ]
    },
    {
      "cell_type": "code",
      "source": [
        "# 예제 문제\n",
        "# 1. sex(성별)별 승객 수를 막대그래프로 그리기\n",
        "sns.countplot(x=\"sex\", data=df)\n",
        "plt.title(\"성별 승객 수\")\n",
        "plt.show()"
      ],
      "metadata": {
        "colab": {
          "base_uri": "https://localhost:8080/",
          "height": 469
        },
        "id": "dcBa3any2NJO",
        "outputId": "c4ab24a3-a6dd-403c-d59f-d8c755bfe972"
      },
      "execution_count": null,
      "outputs": [
        {
          "output_type": "display_data",
          "data": {
            "text/plain": [
              "<Figure size 640x480 with 1 Axes>"
            ],
            "image/png": "[encoded data removed]"
          },
          "metadata": {}
        }
      ]
    },
    {
      "cell_type": "code",
      "source": [
        "# 2. fare(요금)의 분포를 히스토그램으로 그리기\n",
        "sns.histplot(df[\"fare\"],bins=30, kde=True) # bins는 막대 개수, 클수록 구간을 세밀하게 나눔\n",
        "plt.title(\"요금 분포\")\n",
        "plt.show()"
      ],
      "metadata": {
        "colab": {
          "base_uri": "https://localhost:8080/",
          "height": 469
        },
        "id": "sSjl8ILJ2id4",
        "outputId": "27a99402-ca8f-4e15-c6be-ca92054c5669"
      },
      "execution_count": null,
      "outputs": [
        {
          "output_type": "display_data",
          "data": {
            "text/plain": [
              "<Figure size 640x480 with 1 Axes>"
            ],
            "image/png": "[encoded data removed]"
          },
          "metadata": {}
        }
      ]
    },
    {
      "cell_type": "code",
      "source": [
        "# 3. age vs fare 관계를 산점도로 그리기\n",
        "sns.scatterplot(x=\"age\", y=\"fare\", data=df)\n",
        "plt.title(\"나이vs요금\")\n",
        "plt.xlabel(\"나이\")\n",
        "plt.ylabel(\"요금\")\n",
        "plt.show()"
      ],
      "metadata": {
        "colab": {
          "base_uri": "https://localhost:8080/",
          "height": 469
        },
        "id": "-xVSspAC3VgR",
        "outputId": "bbd4e833-7c95-4dae-f813-9e70822eec62"
      },
      "execution_count": null,
      "outputs": [
        {
          "output_type": "display_data",
          "data": {
            "text/plain": [
              "<Figure size 640x480 with 1 Axes>"
            ],
            "image/png": "[encoded data removed]"
          },
          "metadata": {}
        }
      ]
    },
    {
      "cell_type": "code",
      "source": [
        "# 4. titanic 데이터에서 survived와 plcass 간의 관계 시각화\n",
        "sns.countplot(x=\"pclass\", hue=\"survived\", data=df) # hue는 막대그래프에서 y축이 범주형일 때 색으로 구별해줌\n",
        "plt.title(\"생존자와 등급의 관계도\")\n",
        "plt.xlabel(\"등급\")\n",
        "plt.ylabel(\"생존 여부\")\n",
        "plt.show()"
      ],
      "metadata": {
        "colab": {
          "base_uri": "https://localhost:8080/",
          "height": 469
        },
        "id": "HUSR9cUy3sLp",
        "outputId": "8a674ecc-329c-4861-b079-80381b12b0ad"
      },
      "execution_count": null,
      "outputs": [
        {
          "output_type": "display_data",
          "data": {
            "text/plain": [
              "<Figure size 640x480 with 1 Axes>"
            ],
            "image/png": "[encoded data removed]"
          },
          "metadata": {}
        }
      ]
    },
    {
      "cell_type": "code",
      "source": [
        "# 추가) 그룹별로 평균 계산 (생존자 비율 = 평균)\n",
        "surv_rate = df.groupby(\"pclass\")[\"survived\"].mean().reset_index()\n",
        "sns.barplot(x=\"pclass\", y=\"survived\", data=surv_rate)\n",
        "plt.title(\"등급별 생존률 (%)\")\n",
        "plt.xlabel(\"등급\")\n",
        "plt.ylabel(\"생존률\")\n",
        "plt.ylim(0, 1)  # 0~1 사이로 비율 범위 설정\n",
        "plt.show()"
      ],
      "metadata": {
        "colab": {
          "base_uri": "https://localhost:8080/",
          "height": 470
        },
        "id": "Yh-ByFze4nmR",
        "outputId": "a2cbbcb9-c1d8-4a02-8fdd-3789f5e6ea51"
      },
      "execution_count": null,
      "outputs": [
        {
          "output_type": "display_data",
          "data": {
            "text/plain": [
              "<Figure size 640x480 with 1 Axes>"
            ],
            "image/png": "[encoded data removed]"
          },
          "metadata": {}
        }
      ]
    },
    {
      "cell_type": "markdown",
      "source": [
        "# 새 섹션"
      ],
      "metadata": {
        "id": "OLOYeX_A5gtx"
      }
    }
  ]
}