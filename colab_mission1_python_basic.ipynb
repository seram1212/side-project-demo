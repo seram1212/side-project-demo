{
 "cells": [
  {
   "cell_type": "markdown",
   "id": "fbbc134f",
   "metadata": {},
   "source": [
    "# 📝 Colab 실습 미션 1 - Python 기본 문법 익히기"
   ]
  },
  {
   "cell_type": "markdown",
   "id": "89f9a91b",
   "metadata": {},
   "source": [
    "## 🔹 미션 1-1: 변수와 자료형"
   ]
  },
  {
   "cell_type": "code",
   "execution_count": null,
   "id": "d754a8ad",
   "metadata": {},
   "outputs": [],
   "source": [
    "name = \"seram\"\n",
    "age = 23\n",
    "is_student = True\n",
    "print(f\"{name}는 {age}살이고, 학생 여부: {is_student}\")"
   ]
  },
  {
   "cell_type": "markdown",
   "id": "a34c02bf",
   "metadata": {},
   "source": [
    "## 🔹 미션 1-2: 리스트 & 조건문"
   ]
  },
  {
   "cell_type": "code",
   "execution_count": null,
   "id": "d3151457",
   "metadata": {},
   "outputs": [],
   "source": [
    "scores = [85, 90, 78, 92, 70]\n",
    "for score in scores:\n",
    "  if score >= 90:\n",
    "    print(\"A\")\n",
    "  elif score >= 80:\n",
    "    print(\"B\")\n",
    "  else:\n",
    "    print(\"C 이하\")"
   ]
  },
  {
   "cell_type": "markdown",
   "id": "dfcf54a6",
   "metadata": {},
   "source": [
    "## 🔹 미션 1-3: 함수 만들기"
   ]
  },
  {
   "cell_type": "code",
   "execution_count": null,
   "id": "469e135e",
   "metadata": {},
   "outputs": [],
   "source": [
    "def greet(name):\n",
    "  return f\"안녕, {name}!\"\n",
    "\n",
    "print(greet(\"새람\"))"
   ]
  }
 ],
 "metadata": {},
 "nbformat": 4,
 "nbformat_minor": 5
}
